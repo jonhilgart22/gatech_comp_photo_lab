{
 "cells": [
  {
   "cell_type": "markdown",
   "metadata": {
    "collapsed": true
   },
   "source": [
    "# CS6475: Features & Keypoints\n",
    "\n",
    "One of the fundamental challenges in computer vision and computational photography is determining which parts of two or more images match -- known as the [correspondence problem](https://en.wikipedia.org/wiki/Correspondence_problem). Solving the correspondence problem is useful for automatic image alignment (e.g., for panoramas), object & motion detection, and recovering scene structure from images (among other useful tasks). In this notebook, you will explore keypoint detection, feature descriptors, and see an example application to extract scene structure from camera motion using [OpenSfM](https://github.com/mapillary/OpenSfM).\n",
    "\n",
    "## Lesson Summary\n",
    "---\n",
    "* [Part 1 - Feature Detection](#Part-1---Feature-Detection) -- implement a Harris corner detector\n",
    "* [Part 2 - Feature Descriptors](#Part-2---Feature-Descriptors) -- implement Histogram of Oriented Gradients descriptors\n",
    "* [Part 3 - Applications: Structure from Motion](#Part-3---Applications:-Structure-from-Motion) -- experiment with [OpenSfM](https://github.com/mapillary/OpenSfM)\n",
    "* [Part 4 - Challenges](#Part-4---Challenges)"
   ]
  },
  {
   "cell_type": "code",
   "execution_count": null,
   "metadata": {
    "collapsed": false
   },
   "outputs": [],
   "source": [
    "import cv2\n",
    "import numpy as np\n",
    "import scipy as sp\n",
    "\n",
    "import matplotlib as mpl\n",
    "import matplotlib.pyplot as plt\n",
    "\n",
    "from matplotlib import patches\n",
    "\n",
    "# Use jupyter \"magic\" methods to dynamically reload external modules every\n",
    "# time any block is run, and show images inline in the notebook\n",
    "%load_ext autoreload\n",
    "%autoreload 2\n",
    "%matplotlib inline"
   ]
  },
  {
   "cell_type": "markdown",
   "metadata": {},
   "source": [
    "---\n",
    "## Part 1 - Feature Detection\n",
    "---\n",
    "Feature detection in images refers to methods of extracting abstract descriptions of local image information. Harris corners remain one popular feature detector (among [many](https://en.wikipedia.org/wiki/Feature_detection_%28computer_vision%29#Feature_detectors) others). Without going into great detail (the details are covered in module 4 lectures), recall that Harris corners are defined by the equations:\n",
    "\n",
    "$$A=\\sum_u \\sum_v w(u, v) \\begin{bmatrix}\n",
    "\\left \\langle I_x^2 \\right \\rangle & \\left \\langle I_xI_y \\right \\rangle \\\\ \n",
    "\\left \\langle I_xI_y \\right \\rangle & \\left \\langle I_y^2 \\right \\rangle\n",
    "\\end{bmatrix}$$\n",
    "\n",
    "$$M_c=\\det(A)-\\kappa\\; \\text{trace}^2(A)$$\n",
    "\n",
    "The parameter $\\kappa$ is determined empirically (a value of 0.05 is usually a good default), and points are treated as \"corners\" if $M_c$ is greater than an empircally determined threshold. "
   ]
  },
  {
   "cell_type": "code",
   "execution_count": null,
   "metadata": {
    "collapsed": false
   },
   "outputs": [],
   "source": [
    "img = cv2.imread(\"data/sample/images/frame_10.jpg\", cv2.IMREAD_GRAYSCALE)\n",
    "ksize = (5, 5)  # size of the window w(u, v)\n",
    "sigma = 1.5  # standard deviation of a Gaussian filter w(u, v)\n",
    "kappa = 0.05  # Harris-Stephens corner score parameter\n",
    "threshold = 5e7  # corner score threshold\n",
    "\n",
    "# compute the directional gradients\n",
    "Ix = cv2.Sobel(img, cv2.CV_64F, 1, 0, ksize=5)\n",
    "Iy = cv2.Sobel(img, cv2.CV_64F, 0, 1, ksize=5)\n",
    "\n",
    "# Gaussian could be replaced with box filter averaging in the windowed sum-products\n",
    "Sxx = cv2.GaussianBlur(Ix * Ix, ksize, sigma)\n",
    "Syy = cv2.GaussianBlur(Iy * Iy, ksize, sigma)\n",
    "Sxy = cv2.GaussianBlur(Ix * Iy, ksize, sigma)\n",
    "\n",
    "# Each location x, y in Mc contains the corner \"score\" for the corresponding pixel\n",
    "Mc = (Sxx * Syy - Sxy * Sxy) - kappa * (Sxx + Sxy)**2\n",
    "\n",
    "# Perform local non-maximal suppression & filter according to score\n",
    "y, x = np.where((Mc == cv2.dilate(Mc, np.ones(ksize))) & (Mc > threshold))\n",
    "plt.figure(figsize=(16, 12))\n",
    "plt.imshow(img, cmap=\"gray\");\n",
    "# plt.scatter(x, y, s=1, c='r');  # plot the keypoints\n",
    "plt.quiver(x, y, Ix[y, x], Iy[y, x], color='r', width=0.001);  # plot the gradient magnitude & direction\n",
    "plt.axis(\"off\");"
   ]
  },
  {
   "cell_type": "markdown",
   "metadata": {},
   "source": [
    "---\n",
    "## Part 2 - Feature Descriptors\n",
    "---\n",
    "Feature detection finds _where_ a point of interest is located, but the points alone lose image context in describing the features they represent. In the previous example, we expanded the Harris corners using the gradient magnitude and angle, but better feature descriptions are more robust to changes in perspective and pixel intensity.\n",
    "\n",
    "OpenCV implements several detectors for more robust feature descriptors like SIFT, SURF, ORB, and HoG, which offer different levels of accuracy & speed. Next we'll cover [Histogram of Oriented Gradients (HoG)](http://lear.inrialpes.fr/people/triggs/pubs/Dalal-cvpr05.pdf) descriptors, which are simpler to demonstrate than the multiscale feature descriptors like [SIFT](http://www.cs.ubc.ca/~lowe/papers/ijcv04.pdf). (Conceptually, SIFT progressivly extracts locally maximal features from multiscale image pyramids -- the same kind used for pyramid blending.)\n",
    "\n",
    "HoG feature descriptors are generated by splitting an input window of interest into non-overlapping _cells_ of a fixed size and computing a weighted histogram of the gradient directions of the pixels in each cell into a fixed number of _bins_. Next, the cells are grouped into overlapping _blocks_, and the descriptors for the cells in the block are concatenated and normalized. The final feature descriptor for the window is simply the concatenation of all the block descriptors. By default, HoG feature descriptors describe the entire image. Detecting multiscale features involves applying the same procedure to a sliding window over the image and iterating over multiple scales.\n",
    "\n",
    "In the example below, the window of interest is the full image. It contains 4x4=16 cells, and the cells are grouped into 2x2 blocks. The blocks are computed by sliding a 2x2 box over the cells (the red block moves to the green block, then the blue block, then the black block, and so on over the rest of the image). The Final feature descriptor is the concatenation of the normalized vector in each block, which is a 4x4x3x3x9=1296 element vector.\n",
    "![](blocks.png)"
   ]
  },
  {
   "cell_type": "code",
   "execution_count": null,
   "metadata": {
    "collapsed": false
   },
   "outputs": [],
   "source": [
    "img = cv2.imread(\"data/sample/images/frame_01.jpg\", cv2.IMREAD_GRAYSCALE)\n",
    "cell_size = (8, 8)\n",
    "block_size = (3, 3)\n",
    "nbins = 9\n",
    "\n",
    "# resize the image to make each dimension a power of 2 so that it is evenly partitioned into cells\n",
    "img = cv2.resize(img, (256, 256))\n",
    "\n",
    "# define a few arbitrary cell patches in the image for visualization\n",
    "patch_count = 0\n",
    "locations = [(9, 28), (16, 24), (24, 12), (10, 2)]\n",
    "colors = ['r', 'g', 'b', 'y']\n",
    "plt.figure(figsize=(12, 16))\n",
    "img_ax = plt.subplot2grid((6, 4), (0, 0), colspan=4, rowspan=4)\n",
    "plt.imshow(img, cmap=\"gray\");\n",
    "plt.axis(\"off\");\n",
    "\n",
    "# compute the directional gradients & convert to magnitude/angle\n",
    "Ix = cv2.Sobel(img, cv2.CV_64F, 1, 0, ksize=5)\n",
    "Iy = cv2.Sobel(img, cv2.CV_64F, 0, 1, ksize=5)\n",
    "mag, ang = cv2.cartToPolar(Ix, Iy)\n",
    "\n",
    "# convert the angles to integers for each bin\n",
    "bins = np.int64(nbins * ang / (2 * np.pi))\n",
    "\n",
    "# calculate the weighted histogram for every cell\n",
    "weighted_bins = mag * bins\n",
    "ncells = tuple(np.divide(img.shape, cell_size))\n",
    "hist = np.zeros(ncells + (nbins,))\n",
    "for j in range(ncells[0]):\n",
    "    lo_row = j * cell_size[0]\n",
    "    hi_row = lo_row + cell_size[0] + 1\n",
    "    for i in range(ncells[1]):\n",
    "        lo_col = i * cell_size[1]\n",
    "        hi_col = lo_col + cell_size[1] + 1\n",
    "        cell = bins[lo_row:hi_row, lo_col:hi_col]\n",
    "        wbins = weighted_bins[lo_row:hi_row, lo_col:hi_col]\n",
    "        for k in range(nbins):\n",
    "            hist[j, i, k] = np.sum(wbins[cell == k])\n",
    "            \n",
    "        # draw individual cells & the corresponding histograms -- this code is not part of the HoG algorithm\n",
    "        if (j, i) in locations:\n",
    "            color = colors.pop()\n",
    "            img_ax.add_patch(patches.Rectangle((lo_col, lo_row), *cell_size, fill=False, color=color))\n",
    "\n",
    "            patch_ax = plt.subplot2grid((6, 4), (4, 0 + patch_count))\n",
    "            plt.imshow(img[lo_row:hi_row, lo_col:hi_col], cmap=\"gray\");\n",
    "            plt.setp(patch_ax.spines.values(), color=color)\n",
    "            plt.tick_params(axis='both', which='both', labelbottom='off', labelleft='off', bottom='off', left='off')\n",
    "            \n",
    "            hist_ax = plt.subplot2grid((6, 4), (5, 0 + patch_count))\n",
    "            plt.bar(range(nbins), hist[j, i])\n",
    "            plt.tick_params(axis='both', which='both', labelbottom='off', labelleft='off', bottom='off', left='off')\n",
    "            plt.xlabel(\"patch {} histogram\".format(patch_count))\n",
    "            patch_count += 1"
   ]
  },
  {
   "cell_type": "code",
   "execution_count": null,
   "metadata": {
    "collapsed": false
   },
   "outputs": [],
   "source": [
    "# normalize within each block and combine the blocks to make a single feature descriptor for the window\n",
    "rblocks, cblocks = tuple(1 + np.subtract(ncells, block_size))  # number of blocks\n",
    "blocks = np.zeros((rblocks, cblocks, block_size[0] * block_size[1] * nbins))\n",
    "for j in range(rblocks):\n",
    "    r_offset = j * cell_size[0]\n",
    "    for i in range(cblocks):\n",
    "        c_offset = i * cell_size[1]\n",
    "        block = hist[r_offset:r_offset+block_size[0], c_offset:c_offset+block_size[1]]\n",
    "        l1_norm = np.sum(block)\n",
    "        if l1_norm > 0:\n",
    "            blocks[j, i] = block.flatten() / l1_norm\n",
    "\n",
    "feature_vector = blocks.flatten()\n",
    "print(feature_vector.shape)"
   ]
  },
  {
   "cell_type": "markdown",
   "metadata": {},
   "source": [
    "---\n",
    "## Part 3 - Applications: Structure from Motion\n",
    "---\n",
    "Once you can robustly detect and identify features of interest, you can use them to register & align multiple images of the same scene. (For example in panorama stitching.) The general solution to this problem is called [global bundle adjustment](https://en.wikipedia.org/wiki/Bundle_adjustment). Bundle adjustment quickly becomes intractable for large image sets because it involves solving a large sparse system of nonlinear equations. Practical solutions simplify the problem by exploiting structure from the application (e.g., sequential images in panorama construction are likely to include the same objects), or limiting the number of images that are pooled together during registration then initializing the global solution with the partial solution of each pooled group. \n",
    "\n",
    "[OpenSfM](https://github.com/mapillary/OpenSfM) is an open source tool that implements several modern techniques to extract 3d point information from large collections of images. By default, it uses HAHoG feature descriptors (which are not very accurate, but are _very_ fast to compute compared to descriptors like SIFT).\n",
    "\n",
    "Run the next cell to see an example of the output it produces (the inputs are in the /data folder) or [click here](/files/features_keypoints/viewer/reconstruction.html#file=/files/features_keypoints/data/sample/reconstruction.meshed.json) to open it in another tab or window."
   ]
  },
  {
   "cell_type": "code",
   "execution_count": null,
   "metadata": {
    "collapsed": false
   },
   "outputs": [],
   "source": [
    "import IPython\n",
    "iframe = (\n",
    "    '<iframe ' +\n",
    "    'src=\"/files/features_keypoints/viewer/reconstruction.html' +\n",
    "    '#file=/files/features_keypoints/data/sample/reconstruction.meshed.json\" ' +\n",
    "    'width=1024 height=600></iframe>'\n",
    ")\n",
    "IPython.display.HTML(iframe)"
   ]
  },
  {
   "cell_type": "markdown",
   "metadata": {},
   "source": [
    "You can process your own pictures with OpenSfM using the Docker image provided by OpenSfM or with the CS6475 course VM. Your pictures need to be in a folder like the \"data/sample\" folder (the \"data/your_images\" folder is provided as a template). OpenSfM is installed on the CS6475 VM, so you can connect to the VM with `vagrant ssh` then `cd` into the lab_exercises folder and process the sample set by running:\n",
    "\n",
    "```\n",
    "lab_exercises$ opensfm feature_keypoints/data/sample\n",
    "```\n",
    "\n",
    "The sample set should finish processing in less than one minute. You can process your own images by changing the target directory to `feature_keypoints/data/your_images` "
   ]
  },
  {
   "cell_type": "markdown",
   "metadata": {},
   "source": [
    "## Part 4 - Challenges\n",
    "\n",
    "### 4.1 Modify the Harris detector & compare the results with the original\n",
    " - Replace the Sobel derivatives in the Harris detector with other gradient operators (np.gradient, cv2.scharr, etc.)\n",
    " - Replace the Gaussian windowed sum-product with a box filter\n",
    "\n",
    "### 4.2 Extend the HoG descriptor & compare it against the OpenCV or scikit-image HoG detectors\n",
    " - Vectorize the HoG descriptor function\n",
    " - Extend the HoG detector to work on multiscale features\n",
    "\n",
    "### 4.3 Use your Harris corners to align images for panoramas\n",
    " - Implement [RANSAC](https://en.wikipedia.org/wiki/Random_sample_consensus), then replace the SIFT/SURF/ORB feature detector in the panorama assignment with your Harris corner + RANSAC detector\n",
    "\n",
    "### 4. Take your own image sequence and explore Structure from Motion\n",
    " - Take your own picture sequence and process it with OpenSfM\n",
    " - Explore the OpenSfM documentation for examples of dense point cloud reconstruction\n",
    " - Build your own photosynth or hyperlapse; to get the best results, you should take _many_ photos very close together (about 1 step between each), and try to avoid sharp turns"
   ]
  },
  {
   "cell_type": "code",
   "execution_count": null,
   "metadata": {
    "collapsed": true
   },
   "outputs": [],
   "source": []
  }
 ],
 "metadata": {
  "anaconda-cloud": {},
  "kernelspec": {
   "display_name": "Python [conda env:CompPhoto]",
   "language": "python",
   "name": "conda-env-CompPhoto-py"
  },
  "language_info": {
   "codemirror_mode": {
    "name": "ipython",
    "version": 2
   },
   "file_extension": ".py",
   "mimetype": "text/x-python",
   "name": "python",
   "nbconvert_exporter": "python",
   "pygments_lexer": "ipython2",
   "version": "2.7.13"
  }
 },
 "nbformat": 4,
 "nbformat_minor": 1
}
